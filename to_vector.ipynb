{
 "cells": [
  {
   "cell_type": "code",
   "execution_count": 2,
   "metadata": {},
   "outputs": [],
   "source": [
    "import io\n",
    "import streamlit as st\n",
    "import pandas as pd\n",
    "from openai import OpenAI"
   ]
  },
  {
   "cell_type": "code",
   "execution_count": 4,
   "metadata": {},
   "outputs": [
    {
     "name": "stdout",
     "output_type": "stream",
     "text": [
      "VECTOR_ID_CTC_DESCOMPLICA_GERAL = vs_vxzHJfQ1ltACO7iYMtkUsiSd\n",
      "ASSISTANT_ID_CTC_DESCOMPLICA_GERAL = asst_DMZBpA4feCFfNkMtOFrNHVNR\n"
     ]
    }
   ],
   "source": [
    "client = OpenAI(api_key=st.secrets.store_api_key.OPENAI_API_KEY)\n",
    "\n",
    "VECTOR_ID_CTC_DESCOMPLICA_GERAL = st.secrets.store_api_key.VECTOR_ID_CTC_DESCOMPLICA_GERAL\n",
    "ASSISTANT_ID_CTC_DESCOMPLICA_GERAL = st.secrets.store_api_key.ASSISTANT_ID_CTC_DESCOMPLICA_GERAL\n",
    "\n",
    "print(f\"VECTOR_ID_CTC_DESCOMPLICA_GERAL = {VECTOR_ID_CTC_DESCOMPLICA_GERAL}\")\n",
    "print(f\"ASSISTANT_ID_CTC_DESCOMPLICA_GERAL = {ASSISTANT_ID_CTC_DESCOMPLICA_GERAL}\")"
   ]
  },
  {
   "cell_type": "code",
   "execution_count": null,
   "metadata": {},
   "outputs": [
    {
     "name": "stdout",
     "output_type": "stream",
     "text": [
      "VECTOR_ID_CTC_DESCOMPLICA_GERAL = vs_vxzHJfQ1ltACO7iYMtkUsiSd\n",
      "ASSISTANT_ID_CTC_DESCOMPLICA_GERAL = asst_DMZBpA4feCFfNkMtOFrNHVNR\n",
      "Assistant(id='asst_1xQv1BPjNNz7aHIdRFthc199', created_at=1733770548, description=None, instructions=\"Voce é um assistente do departamento de recursos humanos da empresa CTC, você responde as perguntas enviadas somente com base nos dados encontrados no seu vector store, não responda outros assuntos, seja objetivo, caso não encontre a resposta no vector storeresponda 'Não encontrei informações que possa ajudar na sua resposta!'\", metadata={}, model='gpt-4o', name='CTC_DESCOMPLICA_GERAL', object='assistant', tools=[FileSearchTool(type='file_search', file_search=FileSearch(max_num_results=None, ranking_options=FileSearchRankingOptions(score_threshold=0.0, ranker='default_2024_08_21')))], response_format='auto', temperature=1.0, tool_resources=ToolResources(code_interpreter=None, file_search=ToolResourcesFileSearch(vector_store_ids=['vs_vxzHJfQ1ltACO7iYMtkUsiSd'])), top_p=1.0)\n",
      "assistant_ja_existe True\n"
     ]
    }
   ],
   "source": [
    "\n",
    "list_assistants = client.beta.assistants.list(\n",
    "    order=\"desc\",\n",
    "    limit=\"20\",\n",
    ")\n",
    "\n",
    "assistant_ja_existe = False\n",
    "for assistant in list_assistants.data:\n",
    "    if \"CTC_DESCOMPLICA_GERAL\" == assistant.name:\n",
    "        print(assistant)\n",
    "        assistant_ja_existe = True\n",
    "        break\n",
    "\n",
    "if not assistant_ja_existe:\n",
    "    assistent = client.beta.assistants.create(\n",
    "        instructions=\"Voce é um assistente do departamento de recursos humanos da empresa CTC, você responde as perguntas enviadas somente com base nos dados encontrados no seu vector store, não responda outros assuntos, seja objetivo, caso não encontre a resposta no vector storeresponda 'Não encontrei informações que possa ajudar na sua resposta!'\",\n",
    "        name=\"CTC_DESCOMPLICA_GERAL\",\n",
    "        tools=[{\"type\": \"file_search\"}],\n",
    "        tool_resources={\"file_search\": {\"vector_store_ids\": [VECTOR_ID_CTC_DESCOMPLICA_GERAL]}},\n",
    "        model=\"gpt-4o\"\n",
    "    )\n",
    "    print(\"Assistente Criado!\")\n",
    "else:\n",
    "    print(\"assistant_ja_existe\",assistant_ja_existe)\n"
   ]
  },
  {
   "cell_type": "code",
   "execution_count": 14,
   "metadata": {},
   "outputs": [
    {
     "data": {
      "text/html": [
       "<div>\n",
       "<style scoped>\n",
       "    .dataframe tbody tr th:only-of-type {\n",
       "        vertical-align: middle;\n",
       "    }\n",
       "\n",
       "    .dataframe tbody tr th {\n",
       "        vertical-align: top;\n",
       "    }\n",
       "\n",
       "    .dataframe thead th {\n",
       "        text-align: right;\n",
       "    }\n",
       "</style>\n",
       "<table border=\"1\" class=\"dataframe\">\n",
       "  <thead>\n",
       "    <tr style=\"text-align: right;\">\n",
       "      <th></th>\n",
       "      <th>ID</th>\n",
       "      <th>pergunta</th>\n",
       "      <th>resposta</th>\n",
       "      <th>data</th>\n",
       "      <th>resposavel</th>\n",
       "    </tr>\n",
       "  </thead>\n",
       "  <tbody>\n",
       "    <tr>\n",
       "      <th>0</th>\n",
       "      <td>1</td>\n",
       "      <td>Qual o dia do pagamento?</td>\n",
       "      <td>Até o dia 10 de cada mês, caso dia 10 for um f...</td>\n",
       "      <td>2023-12-08</td>\n",
       "      <td>RH</td>\n",
       "    </tr>\n",
       "    <tr>\n",
       "      <th>1</th>\n",
       "      <td>2</td>\n",
       "      <td>Qual o dia do aniversário da empresa CTC ?</td>\n",
       "      <td>O aniversário da empresa é 1 de janeiro.</td>\n",
       "      <td>2023-12-08</td>\n",
       "      <td>Diretoria</td>\n",
       "    </tr>\n",
       "  </tbody>\n",
       "</table>\n",
       "</div>"
      ],
      "text/plain": [
       "   ID                                    pergunta  \\\n",
       "0   1                    Qual o dia do pagamento?   \n",
       "1   2  Qual o dia do aniversário da empresa CTC ?   \n",
       "\n",
       "                                            resposta        data resposavel  \n",
       "0  Até o dia 10 de cada mês, caso dia 10 for um f...  2023-12-08         RH  \n",
       "1           O aniversário da empresa é 1 de janeiro.  2023-12-08  Diretoria  "
      ]
     },
     "execution_count": 14,
     "metadata": {},
     "output_type": "execute_result"
    }
   ],
   "source": [
    "data = [{ \"ID\": 1,\n",
    "            \"pergunta\": \"Qual o dia do pagamento?\",\n",
    "            \"resposta\": \"Até o dia 10 de cada mês, caso dia 10 for um feriado! será no próximo dia útil.\",\n",
    "            \"data\": \"2023-12-08\",\n",
    "            \"resposavel\" : \"RH\"\n",
    "        },{ \"ID\": 2,\n",
    "            \"pergunta\": \"Qual o dia do aniversário da empresa CTC ?\",\n",
    "            \"resposta\": \"O aniversário da empresa é 1 de janeiro.\",\n",
    "            \"data\": \"2023-12-08\",\n",
    "            \"resposavel\" : \"Diretoria\"\n",
    "        },]\n",
    "\n",
    "df = pd.DataFrame( data )\n",
    "df['data'] = pd.to_datetime(df['data']).dt.date\n",
    "\n",
    "df"
   ]
  },
  {
   "cell_type": "code",
   "execution_count": 5,
   "metadata": {},
   "outputs": [
    {
     "name": "stdout",
     "output_type": "stream",
     "text": [
      "vector_store_files.data = [VectorStoreFile(id='file-6N2Pxuboeqcmz3kpCCUb9h', created_at=1733782844, last_error=None, object='vector_store.file', status='completed', usage_bytes=1935, vector_store_id='vs_vxzHJfQ1ltACO7iYMtkUsiSd', chunking_strategy=StaticFileChunkingStrategyObject(static=StaticFileChunkingStrategy(chunk_overlap_tokens=400, max_chunk_size_tokens=800), type='static'))]\n",
      "vector_store_file.id = file-6N2Pxuboeqcmz3kpCCUb9h\n"
     ]
    }
   ],
   "source": [
    "list_vector_store_files = client.beta.vector_stores.files.list(\n",
    "    vector_store_id=VECTOR_ID_CTC_DESCOMPLICA_GERAL\n",
    ")\n",
    "print(f\"vector_store_files.data = {list_vector_store_files.data}\")\n",
    "\n",
    "for vector_store_file in list_vector_store_files.data:\n",
    "    print(f\"vector_store_file.id = {vector_store_file.id}\")\n",
    "\n",
    "    #deleted_vector_store_file = client.beta.vector_stores.files.delete(\n",
    "    #    vector_store_id=VECTOR_ID_CTC_DESCOMPLICA_GERAL,\n",
    "    #    file_id=vector_store_file.id\n",
    "    #)\n",
    "    #print(deleted_vector_store_file)"
   ]
  },
  {
   "cell_type": "code",
   "execution_count": 11,
   "metadata": {},
   "outputs": [
    {
     "name": "stdout",
     "output_type": "stream",
     "text": [
      "file-6N2Pxuboeqcmz3kpCCUb9h\n",
      "file-DnptX7pGCNCfGUfjCpXHo7\n",
      "file-XhBcfPmh1AGh9EvuEoLN84\n",
      "file-5BCk1DoWTpeyRXK9pf1FmU\n",
      "file-VNq2M4Rh4Ltwox3zLkHEp2\n"
     ]
    }
   ],
   "source": [
    "list_files = client.files.list()\n",
    "\n",
    "for arquivo in list_files.data:\n",
    "    print(arquivo.id)"
   ]
  },
  {
   "cell_type": "code",
   "execution_count": 78,
   "metadata": {},
   "outputs": [
    {
     "name": "stdout",
     "output_type": "stream",
     "text": [
      "file = FileObject(id='file-BbFkiWbAcJnbhWvSdrveSY', bytes=385, created_at=1733774681, filename='CTC_DESCOMPLICA_GERAL.json', object='file', purpose='assistants', status='processed', status_details=None)\n",
      "vector_store_file = VectorStoreFile(id='file-BbFkiWbAcJnbhWvSdrveSY', created_at=1733774681, last_error=None, object='vector_store.file', status='in_progress', usage_bytes=0, vector_store_id='vs_vxzHJfQ1ltACO7iYMtkUsiSd', chunking_strategy=StaticFileChunkingStrategyObject(static=StaticFileChunkingStrategy(chunk_overlap_tokens=400, max_chunk_size_tokens=800), type='static'))\n"
     ]
    }
   ],
   "source": [
    "json_buffer = io.BytesIO()\n",
    "df.to_json(json_buffer, orient='records')\n",
    "json_buffer.seek(0)\n",
    "json_buffer.name = 'CTC_DESCOMPLICA_GERAL.json'\n",
    "\n",
    "file = client.files.create(file=json_buffer, purpose='assistants')\n",
    "print(f\"file = {file}\")\n",
    "\n",
    "create_vector_store_file = client.beta.vector_stores.files.create(\n",
    "    vector_store_id=VECTOR_ID_CTC_DESCOMPLICA_GERAL,\n",
    "    file_id = file.id\n",
    ")\n",
    "\n",
    "print(f\"vector_store_file = {create_vector_store_file}\")"
   ]
  }
 ],
 "metadata": {
  "language_info": {
   "name": "python"
  }
 },
 "nbformat": 4,
 "nbformat_minor": 2
}
